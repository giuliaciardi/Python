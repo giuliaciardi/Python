{
 "cells": [
  {
   "cell_type": "markdown",
   "metadata": {},
   "source": [
    "# Tutorial for NGWB Ingest API with Brunel visualizations\n",
    "Brunel defines a highly succinct and novel language that defines interactive data visualizations based on tabular data. The language is well suited for both data scientists and more aggressive business users. The system interprets the language and produces visualizations using the user's choice of existing lower-level visualization technologies typically used by application engineers such as RAVE or D3."
   ]
  },
  {
   "cell_type": "code",
   "execution_count": null,
   "metadata": {
    "collapsed": true
   },
   "outputs": [],
   "source": [
    "#!pip install brunel"
   ]
  },
  {
   "cell_type": "code",
   "execution_count": null,
   "metadata": {
    "collapsed": true
   },
   "outputs": [],
   "source": [
    "import pandas as pd\n",
    "import brunel"
   ]
  },
  {
   "cell_type": "code",
   "execution_count": null,
   "metadata": {
    "collapsed": true
   },
   "outputs": [],
   "source": [
    "from pyspark.sql import SQLContext\n",
    "sqlContext = SQLContext(sc)\n",
    "from extension_utils import ExtensionUtils\n",
    "eu = ExtensionUtils(sqlContext)"
   ]
  },
  {
   "cell_type": "code",
   "execution_count": null,
   "metadata": {
    "collapsed": true
   },
   "outputs": [],
   "source": [
    "!wget --quiet  --output-document /resources/data/sparklingdataset.zip https://ibm.box.com/shared/static/9nxnsf6xwmuczjea911xjxp8l21yyd2x.zip\n",
    "!unzip -o /resources/data/sparklingdataset.zip -d /resources/data/sparklingdata/\n",
    "!rm /resources/data/sparklingdataset.zip"
   ]
  },
  {
   "cell_type": "code",
   "execution_count": null,
   "metadata": {
    "collapsed": true
   },
   "outputs": [],
   "source": [
    "df = sqlContext.read.format(\"com.ibm.spark.discover\").load(\"/resources/data/sparklingdata/data/sampleDataDir/\")"
   ]
  },
  {
   "cell_type": "code",
   "execution_count": null,
   "metadata": {
    "collapsed": true
   },
   "outputs": [],
   "source": [
    "options = {\"extractFields\": True}\n",
    "dfInfered = eu.inferTypes(df, options)\n",
    "dfInfered.printSchema()"
   ]
  },
  {
   "cell_type": "code",
   "execution_count": null,
   "metadata": {
    "collapsed": true
   },
   "outputs": [],
   "source": [
    "options = {\"revealNA\": {\"mode\": \"any\", \"brackets\": (\">[\", \"]<\")}}\n",
    "dfBaddata = eu.inferTypes(df, options)\n",
    "dfBaddata.show()"
   ]
  },
  {
   "cell_type": "code",
   "execution_count": null,
   "metadata": {
    "collapsed": true
   },
   "outputs": [],
   "source": [
    "options = {'locale': 'es', 'groupingUsed': True}\n",
    "dfFixedBaddata = eu.inferTypes(df, options)\n",
    "eu.printTypes(dfFixedBaddata)"
   ]
  },
  {
   "cell_type": "code",
   "execution_count": null,
   "metadata": {
    "collapsed": true
   },
   "outputs": [],
   "source": [
    "options = {\"extractFields\": True, 'locale': 'es', 'groupingUsed': True}\n",
    "dfConverted = eu.inferTypes(dfFixedBaddata, options)\n",
    "dfConverted.printSchema()\n",
    "dfConverted.show(5)"
   ]
  },
  {
   "cell_type": "code",
   "execution_count": null,
   "metadata": {
    "collapsed": true
   },
   "outputs": [],
   "source": [
    "dfProfiled = eu.profile(dfConverted)\n",
    "eu.printProfile(dfProfiled)"
   ]
  },
  {
   "cell_type": "code",
   "execution_count": null,
   "metadata": {
    "collapsed": true
   },
   "outputs": [],
   "source": [
    "discovered_labels_BP = eu.render(dfProfiled,\"labels\").select(\"name\", \"value\", \"column\").filter(\"column = 'BP'\")\n",
    "pd_discovered_labels_BP = discovered_labels_BP.toPandas()\n",
    "discovered_types_Cost = eu.render(dfProfiled, 'types').select(\"name\",\"value\", \"column\").filter(\"column = 'Cost'\")\n",
    "pd_discovered_types_Cost = discovered_types_Cost.toPandas()\n",
    "discovered_types_Drug = eu.render(dfProfiled,\"labels\").select(\"name\",\"value\", \"column\").filter(\"column = 'Drug'\")\n",
    "pd_discovered_types_Drug = discovered_types_Drug.toPandas()"
   ]
  },
  {
   "cell_type": "code",
   "execution_count": null,
   "metadata": {
    "collapsed": true
   },
   "outputs": [],
   "source": [
    "%brunel data('pd_discovered_labels_BP') stack polar bar y(value) polar color(name) label(name) percent(value) tooltip(#all) | data('pd_discovered_types_Cost') stack polar bar y(value) polar color(name) label(name) percent(value) tooltip(#all)"
   ]
  },
  {
   "cell_type": "code",
   "execution_count": null,
   "metadata": {
    "collapsed": true
   },
   "outputs": [],
   "source": [
    "%%brunel data('pd_discovered_types_Drug') stack polar bar y(value) polar color(name) label(name) percent(value) tooltip(#all)\n",
    " :: width=400, height=300"
   ]
  },
  {
   "cell_type": "code",
   "execution_count": null,
   "metadata": {
    "collapsed": true
   },
   "outputs": [],
   "source": [
    "df_histogram = eu.render(dfProfiled,\"histogram\").select(\"name\", \"value\", \"column\").filter(\"column = 'Cost'\")\n",
    "df_histogram.show()\n",
    "pd_histogram = df_histogram.toPandas()"
   ]
  },
  {
   "cell_type": "code",
   "execution_count": null,
   "metadata": {
    "collapsed": true
   },
   "outputs": [],
   "source": [
    "%brunel data('pd_histogram') bar x(name) y(value) filter(column) color(name) tooltip(#all) :: width=900, height=600"
   ]
  },
  {
   "cell_type": "code",
   "execution_count": null,
   "metadata": {
    "collapsed": true
   },
   "outputs": [],
   "source": [
    "df_age = eu.render(dfProfiled,\"histogram\").select(\"name\", \"value\", \"column\").filter(\"column = 'Age'\")\n",
    "pd_age = df_age.toPandas()"
   ]
  },
  {
   "cell_type": "code",
   "execution_count": null,
   "metadata": {
    "collapsed": true
   },
   "outputs": [],
   "source": [
    "%brunel data('pd_age') bar x(name) y(value) filter(column) color(name) tooltip(#all)"
   ]
  },
  {
   "cell_type": "code",
   "execution_count": null,
   "metadata": {
    "collapsed": true
   },
   "outputs": [],
   "source": [
    "df_stats = eu.render(dfProfiled,\"stats\").select(\"name\", \"value\", \"column\").filter(\"column = 'Cost'\")\n",
    "pd_stats = df_stats.toPandas()"
   ]
  },
  {
   "cell_type": "code",
   "execution_count": null,
   "metadata": {
    "collapsed": true
   },
   "outputs": [],
   "source": [
    "%brunel data('pd_stats') area x(name) yrange(0,value) sort(value)"
   ]
  },
  {
   "cell_type": "code",
   "execution_count": null,
   "metadata": {
    "collapsed": true
   },
   "outputs": [],
   "source": [
    "df_datetime = eu.render(dfProfiled,\"datetime\").select(\"name\", \"value\", \"column\").filter(\"column = 'DateTested'\")\n",
    "pd_datetime = df_datetime.toPandas()"
   ]
  },
  {
   "cell_type": "code",
   "execution_count": null,
   "metadata": {
    "collapsed": true
   },
   "outputs": [],
   "source": [
    "%brunel data('pd_datetime') area x(name) yrange(0,value)"
   ]
  },
  {
   "cell_type": "code",
   "execution_count": null,
   "metadata": {
    "collapsed": true
   },
   "outputs": [],
   "source": [
    "dfCustomers = sqlContext.read.format(\"com.ibm.spark.discover\").load(\"/resources/data/sparklingdata/data/sampleDataDir/customers.csv\")\n",
    "dfCustomers.printSchema()\n",
    "dfCustomers.show()"
   ]
  },
  {
   "cell_type": "code",
   "execution_count": null,
   "metadata": {
    "collapsed": true
   },
   "outputs": [],
   "source": [
    "options = {'extractFields': True, 'semanticTypes': True}\n",
    "dfCustomersInferred = eu.inferTypes(dfCustomers, options)\n",
    "dfCustomersInferred.printSchema()\n",
    "dfCustomersInferred.show()"
   ]
  },
  {
   "cell_type": "code",
   "execution_count": null,
   "metadata": {
    "collapsed": true
   },
   "outputs": [],
   "source": [
    "options = {\"semanticTypes\": True, \"columns\": [\"C2\"], \"revealNA\": {\"mode\": \"any\", \"brackets\": (\">[\", \"]<\")}}\n",
    "dfCustomersForAnalysis = eu.inferTypes(dfCustomers, options)\n",
    "dfCustomersForAnalysis.show()"
   ]
  },
  {
   "cell_type": "code",
   "execution_count": null,
   "metadata": {
    "collapsed": true
   },
   "outputs": [],
   "source": [
    "options = {'extractFields': False, 'semanticTypes': True}\n",
    "dfCustomersInferred = eu.inferTypes(dfCustomers, options)\n",
    "dfCustProfiled = eu.profile(dfCustomersInferred)\n",
    "eu.printProfile(dfCustProfiled)"
   ]
  },
  {
   "cell_type": "code",
   "execution_count": null,
   "metadata": {
    "collapsed": true
   },
   "outputs": [],
   "source": [
    "dfC1Labels = eu.render(dfCustProfiled, \"labels\").select(\"name\", \"value\", \"column\").filter(\"column = 'C1'\")\n",
    "dfC1Labels.show\n",
    "pd_dfC1Labels = dfC1Labels.toPandas()\n",
    "dfC1Types = eu.render(dfCustProfiled, \"types\").select(\"name\", \"value\", \"column\").filter(\"column = 'C1'\")\n",
    "dfC1Types.show\n",
    "pd_dfC1Types = dfC1Types.toPandas()"
   ]
  },
  {
   "cell_type": "code",
   "execution_count": null,
   "metadata": {
    "collapsed": true
   },
   "outputs": [],
   "source": [
    "%brunel data('pd_dfC1Labels') bar x(name) y(value) sort(value) label(name:3, \": \", value) | data('pd_dfC1Types')stack polar bar y(value) polar color(name) label(name) percent(value) tooltip(#all)"
   ]
  },
  {
   "cell_type": "markdown",
   "metadata": {},
   "source": [
    "## Want to learn more?"
   ]
  },
  {
   "cell_type": "markdown",
   "metadata": {},
   "source": [
    "<a href=\"http://bigdatauniversity.com/courses/introduction-to-python/?utm_source=tutorial-sparkling-python3&utm_medium=dswb&utm_campaign=bdu\"><img src = \"https://ibm.box.com/shared/static/l8yxiek0fg4e15lwz0ikgunj338nrrtd.png\"> </a>"
   ]
  },
  {
   "cell_type": "markdown",
   "metadata": {},
   "source": [
    "Created by: <a href=\"https://bigdatauniversity.com/?utm_source=bducreatedbylink&utm_medium=dswb&utm_campaign=bdu\">The Cognitive Class Team</a>"
   ]
  }
 ],
 "metadata": {
  "kernelspec": {
   "display_name": "Python 3",
   "language": "python",
   "name": "python3"
  },
  "language_info": {
   "codemirror_mode": {
    "name": "ipython",
    "version": 3
   },
   "file_extension": ".py",
   "mimetype": "text/x-python",
   "name": "python",
   "nbconvert_exporter": "python",
   "pygments_lexer": "ipython3",
   "version": "3.5.2"
  },
  "widgets": {
   "state": {},
   "version": "1.1.2"
  }
 },
 "nbformat": 4,
 "nbformat_minor": 0
}
